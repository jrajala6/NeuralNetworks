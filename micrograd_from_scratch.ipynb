{
 "cells": [
  {
   "metadata": {},
   "cell_type": "markdown",
   "source": "# Defining and Training a Neural Network",
   "id": "8a77807f92f26ee"
  },
  {
   "metadata": {},
   "cell_type": "markdown",
   "source": [
    "* Micrograd is an Autograd (Automatic Gradient) Engine\n",
    "    - Implements backpropagation\n",
    "* What is a gradient?\n",
    "    - Represents the rate of change of the loss function with respect to the\n",
    "      model's parameters --> find best parameters to yield best prediction\n",
    "* What is backpropagation?\n",
    "    - Algorithm that allows you to efficiently evaluate the gradient of the\n",
    "      loss function with respect to the weights of the neural network\n",
    "          -  can iteratively tune the weights to minimize the loss function\n",
    "    - Mathematical core of any modern deep neural network library\n",
    "* Neural Networks: a certain class of mathematical expressions\n",
    "    - Take input data and weights of the neural network as inputs\n",
    "    - Output is predictions of the neural network or loss function\n",
    "    - Backpropagation is a more general and is employed for training neural networks\n",
    "        -  Doesn't care about neural networks (only cares about arbitrary mathematical expressions)\n",
    "    - Neural networks are massive expressions so we need data structure to maintain these expressions (micrograd)\n",
    "* Tensor: an algebraic object that describes a multilinear relationship between sets of algebraic objects related to a vector space"
   ],
   "id": "18622b00035811ec"
  },
  {
   "metadata": {
    "ExecuteTime": {
     "end_time": "2025-05-22T00:10:08.169963Z",
     "start_time": "2025-05-22T00:10:08.158313Z"
    }
   },
   "cell_type": "code",
   "source": [
    "import math\n",
    "import numpy as np\n",
    "import matplotlib.pyplot as plt\n",
    "%matplotlib inline\n",
    "\n",
    "class Value:\n",
    "\n",
    "    def __init__(self, data, _children=(), _op='', label=''):\n",
    "        self.data = data\n",
    "        self.grad = 0\n",
    "        self._prev = set(_children)\n",
    "        self._backward = lambda : None\n",
    "        self._op = _op\n",
    "        self.label = label\n",
    "\n",
    "    def __repr__(self):\n",
    "        return f\"Value(data={self.data})\"\n",
    "\n",
    "    def __add__(self, other):\n",
    "        other = other if isinstance(other, Value) else Value(other)\n",
    "        out = Value(self.data + other.data, (self, other), '+')\n",
    "\n",
    "        def _backward():\n",
    "            self.grad += 1.0 * out.grad\n",
    "            other.grad += 1.0 * out.grad\n",
    "        out._backward = _backward\n",
    "\n",
    "        return out\n",
    "\n",
    "    def __mul__(self, other):\n",
    "        other = other if isinstance(other, Value) else Value(other)\n",
    "        out = Value(self.data * other.data, (self, other), '*')\n",
    "\n",
    "        def _backward():\n",
    "            self.grad += other.data * out.grad\n",
    "            other.grad += self.data * out.grad\n",
    "        out._backward = _backward\n",
    "\n",
    "        return out\n",
    "\n",
    "    def __pow__(self, other):\n",
    "        assert isinstance(other, (int, float)), \"only supporting int/float powers for now\"\n",
    "        out = Value(self.data ** other, (self,), f'**{other}')\n",
    "\n",
    "        def _backward():\n",
    "            self.grad += other * (self.data ** (other - 1)) * out.grad\n",
    "\n",
    "        out._backward = _backward\n",
    "\n",
    "        return out\n",
    "\n",
    "    def __rmul__(self, other):\n",
    "        return self * other\n",
    "\n",
    "    def __truediv__(self, other):\n",
    "        return self * other**-1\n",
    "\n",
    "    def __neg__(self):\n",
    "        return self * -1\n",
    "\n",
    "    def __sub__(self, other):\n",
    "        return self + (-other)\n",
    "\n",
    "    def __radd__(self, other):\n",
    "        return self + other\n",
    "\n",
    "    def tanh(self):\n",
    "        x = self.data\n",
    "        t = (math.exp(2*x) - 1)/(math.exp(2*x) + 1)\n",
    "        out = Value(t, (self, ), 'tanh')\n",
    "\n",
    "        def _backward():\n",
    "            self.grad += (1 - t ** 2)  * out.grad\n",
    "        out._backward = _backward\n",
    "\n",
    "        return out\n",
    "\n",
    "    def exp(self):\n",
    "        x = self.data\n",
    "        out = Value(math.exp(x), (self, ), 'exp')\n",
    "\n",
    "        def _backward():\n",
    "            self.grad += out.data * out.grad\n",
    "        out._backward = _backward\n",
    "\n",
    "        return out\n",
    "\n",
    "    def backward(self):\n",
    "        topo = []\n",
    "        visited = set()\n",
    "\n",
    "        def build_topo(v):\n",
    "            if v not in visited:\n",
    "                visited.add(v)\n",
    "                for child in v._prev:\n",
    "                    build_topo(child)\n",
    "                topo.append(v)\n",
    "\n",
    "        build_topo(self)\n",
    "\n",
    "        self.grad = 1.0\n",
    "        for node in reversed(topo):\n",
    "            node._backward()\n"
   ],
   "id": "fbc121e30a2defb3",
   "outputs": [],
   "execution_count": 54
  },
  {
   "metadata": {
    "ExecuteTime": {
     "end_time": "2025-05-21T21:06:27.057265Z",
     "start_time": "2025-05-21T21:06:27.053536Z"
    }
   },
   "cell_type": "code",
   "source": [
    "a = Value(2.0)\n",
    "b = Value(4.0)\n",
    "a / b"
   ],
   "id": "27d1370da19706c",
   "outputs": [
    {
     "data": {
      "text/plain": [
       "Value(data=0.5)"
      ]
     },
     "execution_count": 24,
     "metadata": {},
     "output_type": "execute_result"
    }
   ],
   "execution_count": 24
  },
  {
   "metadata": {
    "ExecuteTime": {
     "end_time": "2025-05-21T20:55:24.741030Z",
     "start_time": "2025-05-21T20:55:24.736403Z"
    }
   },
   "cell_type": "code",
   "source": [
    "# Node visualizer\n",
    "from graphviz import Digraph\n",
    "\n",
    "def trace(root):\n",
    "    nodes, edges = set(), set()\n",
    "    def build(v):\n",
    "        if v not in nodes:\n",
    "            nodes.add(v)\n",
    "            for child in v._prev:\n",
    "                edges.add((child, v))\n",
    "                build(child)\n",
    "    build(root)\n",
    "    return nodes, edges\n",
    "\n",
    "def draw_dot(root):\n",
    "    dot = Digraph(format='svg', graph_attr={'rankdir': 'LR'}) # LR = left to right\n",
    "\n",
    "    nodes, edges = trace(root)\n",
    "    for n in nodes:\n",
    "        uid = str(id(n))\n",
    "        # for any value in the graph, create a rectangular ('record') node for it\n",
    "        dot.node(name = uid, label = \"{ %s | data %.4f | grad %.4f }\" % (n.label, n.data, n.grad), shape='record')\n",
    "        if n._op:\n",
    "            # if this value is a result of some operation, create an op node for it\n",
    "            dot.node(name = uid + n._op, label = n._op)\n",
    "            # and connect this node to it\n",
    "            dot.edge(uid + n._op, uid)\n",
    "\n",
    "    for n1, n2 in edges:\n",
    "        # connect n1 to the op node of n2\n",
    "        dot.edge(str(id(n1)), str(id(n2)) + n2._op)\n",
    "\n",
    "    return dot\n",
    "\n",
    "\n"
   ],
   "id": "1bc50878bd45068b",
   "outputs": [],
   "execution_count": 11
  },
  {
   "metadata": {},
   "cell_type": "markdown",
   "source": [
    "**Calculating the gradients of the nodes with respect to F (Backpropagation)**\n",
    "- Backpropagation: recursive application of the chain rule backwards through the computation graph\n"
   ],
   "id": "f1752504221340f0"
  },
  {
   "metadata": {},
   "cell_type": "markdown",
   "source": "**Creating a Neuron**",
   "id": "c41d1c28e492b320"
  },
  {
   "metadata": {
    "ExecuteTime": {
     "end_time": "2025-05-21T20:55:36.479169Z",
     "start_time": "2025-05-21T20:55:36.475300Z"
    }
   },
   "cell_type": "code",
   "source": [
    "# inputs x1, x2\n",
    "x1 = Value(2.0, label='x1')\n",
    "x2 = Value(0.0, label='x2')\n",
    "# weights w1, w2\n",
    "w1 = Value(-3.0, label='w1')\n",
    "w2 = Value(1.0, label='w2')\n",
    "# bias of the neuron\n",
    "b = Value(6.8813735870195432, label='b')\n",
    "# x1*w1 + x2*w2 + b\n",
    "x1w1 = x1*w1; x1w1.label = 'x1*w1'\n",
    "x2w2 = x2*w2; x2w2.label = 'x2*w2'\n",
    "x1w1x2w2 = x1w1 + x2w2; x1w1x2w2.label = 'x1*w1 + x2*w2'\n",
    "n = x1w1x2w2 + b; n.label = 'n'\n",
    "# activation function (tanh)\n",
    "o = n.tanh(); o.label = 'o'\n",
    "o.backward()"
   ],
   "id": "bb14095b63e05b19",
   "outputs": [],
   "execution_count": 14
  },
  {
   "metadata": {
    "ExecuteTime": {
     "end_time": "2025-05-21T20:55:39.947563Z",
     "start_time": "2025-05-21T20:55:39.881055Z"
    }
   },
   "cell_type": "code",
   "source": "draw_dot(o)",
   "id": "cf529c944d9ad964",
   "outputs": [
    {
     "data": {
      "image/svg+xml": "<?xml version=\"1.0\" encoding=\"UTF-8\" standalone=\"no\"?>\n<!DOCTYPE svg PUBLIC \"-//W3C//DTD SVG 1.1//EN\"\n \"http://www.w3.org/Graphics/SVG/1.1/DTD/svg11.dtd\">\n<!-- Generated by graphviz version 12.2.1 (20241206.2353)\n -->\n<!-- Pages: 1 -->\n<svg width=\"1567pt\" height=\"210pt\"\n viewBox=\"0.00 0.00 1566.50 210.00\" xmlns=\"http://www.w3.org/2000/svg\" xmlns:xlink=\"http://www.w3.org/1999/xlink\">\n<g id=\"graph0\" class=\"graph\" transform=\"scale(1 1) rotate(0) translate(4 206)\">\n<polygon fill=\"white\" stroke=\"none\" points=\"-4,4 -4,-206 1562.5,-206 1562.5,4 -4,4\"/>\n<!-- 4390270000 -->\n<g id=\"node1\" class=\"node\">\n<title>4390270000</title>\n<polygon fill=\"none\" stroke=\"black\" points=\"1374.75,-109.5 1374.75,-145.5 1558.5,-145.5 1558.5,-109.5 1374.75,-109.5\"/>\n<text text-anchor=\"middle\" x=\"1386.12\" y=\"-122.7\" font-family=\"Times,serif\" font-size=\"14.00\">o</text>\n<polyline fill=\"none\" stroke=\"black\" points=\"1397.5,-110 1397.5,-145.5\"/>\n<text text-anchor=\"middle\" x=\"1437.38\" y=\"-122.7\" font-family=\"Times,serif\" font-size=\"14.00\">data 0.7071</text>\n<polyline fill=\"none\" stroke=\"black\" points=\"1477.25,-110 1477.25,-145.5\"/>\n<text text-anchor=\"middle\" x=\"1517.88\" y=\"-122.7\" font-family=\"Times,serif\" font-size=\"14.00\">grad 1.0000</text>\n</g>\n<!-- 4390270000tanh -->\n<g id=\"node2\" class=\"node\">\n<title>4390270000tanh</title>\n<ellipse fill=\"none\" stroke=\"black\" cx=\"1311.75\" cy=\"-127.5\" rx=\"27\" ry=\"18\"/>\n<text text-anchor=\"middle\" x=\"1311.75\" y=\"-122.45\" font-family=\"Times,serif\" font-size=\"14.00\">tanh</text>\n</g>\n<!-- 4390270000tanh&#45;&gt;4390270000 -->\n<g id=\"edge1\" class=\"edge\">\n<title>4390270000tanh&#45;&gt;4390270000</title>\n<path fill=\"none\" stroke=\"black\" d=\"M1339.03,-127.5C1346.17,-127.5 1354.36,-127.5 1363.07,-127.5\"/>\n<polygon fill=\"black\" stroke=\"black\" points=\"1362.81,-131 1372.81,-127.5 1362.81,-124 1362.81,-131\"/>\n</g>\n<!-- 4390247504 -->\n<g id=\"node3\" class=\"node\">\n<title>4390247504</title>\n<polygon fill=\"none\" stroke=\"black\" points=\"0,-55.5 0,-91.5 198,-91.5 198,-55.5 0,-55.5\"/>\n<text text-anchor=\"middle\" x=\"16.25\" y=\"-68.7\" font-family=\"Times,serif\" font-size=\"14.00\">w1</text>\n<polyline fill=\"none\" stroke=\"black\" points=\"32.5,-56 32.5,-91.5\"/>\n<text text-anchor=\"middle\" x=\"74.62\" y=\"-68.7\" font-family=\"Times,serif\" font-size=\"14.00\">data &#45;3.0000</text>\n<polyline fill=\"none\" stroke=\"black\" points=\"116.75,-56 116.75,-91.5\"/>\n<text text-anchor=\"middle\" x=\"157.38\" y=\"-68.7\" font-family=\"Times,serif\" font-size=\"14.00\">grad 1.0000</text>\n</g>\n<!-- 4381769360* -->\n<g id=\"node8\" class=\"node\">\n<title>4381769360*</title>\n<ellipse fill=\"none\" stroke=\"black\" cx=\"261\" cy=\"-73.5\" rx=\"27\" ry=\"18\"/>\n<text text-anchor=\"middle\" x=\"261\" y=\"-68.45\" font-family=\"Times,serif\" font-size=\"14.00\">*</text>\n</g>\n<!-- 4390247504&#45;&gt;4381769360* -->\n<g id=\"edge12\" class=\"edge\">\n<title>4390247504&#45;&gt;4381769360*</title>\n<path fill=\"none\" stroke=\"black\" d=\"M198.14,-73.5C206.61,-73.5 214.8,-73.5 222.29,-73.5\"/>\n<polygon fill=\"black\" stroke=\"black\" points=\"222.29,-77 232.29,-73.5 222.29,-70 222.29,-77\"/>\n</g>\n<!-- 4390305872 -->\n<g id=\"node4\" class=\"node\">\n<title>4390305872</title>\n<polygon fill=\"none\" stroke=\"black\" points=\"326.25,-110.5 326.25,-146.5 540,-146.5 540,-110.5 326.25,-110.5\"/>\n<text text-anchor=\"middle\" x=\"352.62\" y=\"-123.7\" font-family=\"Times,serif\" font-size=\"14.00\">x2*w2</text>\n<polyline fill=\"none\" stroke=\"black\" points=\"379,-111 379,-146.5\"/>\n<text text-anchor=\"middle\" x=\"418.88\" y=\"-123.7\" font-family=\"Times,serif\" font-size=\"14.00\">data 0.0000</text>\n<polyline fill=\"none\" stroke=\"black\" points=\"458.75,-111 458.75,-146.5\"/>\n<text text-anchor=\"middle\" x=\"499.38\" y=\"-123.7\" font-family=\"Times,serif\" font-size=\"14.00\">grad 0.5000</text>\n</g>\n<!-- 4390149072+ -->\n<g id=\"node14\" class=\"node\">\n<title>4390149072+</title>\n<ellipse fill=\"none\" stroke=\"black\" cx=\"605.25\" cy=\"-100.5\" rx=\"27\" ry=\"18\"/>\n<text text-anchor=\"middle\" x=\"605.25\" y=\"-95.45\" font-family=\"Times,serif\" font-size=\"14.00\">+</text>\n</g>\n<!-- 4390305872&#45;&gt;4390149072+ -->\n<g id=\"edge10\" class=\"edge\">\n<title>4390305872&#45;&gt;4390149072+</title>\n<path fill=\"none\" stroke=\"black\" d=\"M540.42,-111.01C549.89,-109.45 559,-107.95 567.21,-106.6\"/>\n<polygon fill=\"black\" stroke=\"black\" points=\"567.75,-110.05 577.05,-104.98 566.62,-103.15 567.75,-110.05\"/>\n</g>\n<!-- 4390305872* -->\n<g id=\"node5\" class=\"node\">\n<title>4390305872*</title>\n<ellipse fill=\"none\" stroke=\"black\" cx=\"261\" cy=\"-128.5\" rx=\"27\" ry=\"18\"/>\n<text text-anchor=\"middle\" x=\"261\" y=\"-123.45\" font-family=\"Times,serif\" font-size=\"14.00\">*</text>\n</g>\n<!-- 4390305872*&#45;&gt;4390305872 -->\n<g id=\"edge2\" class=\"edge\">\n<title>4390305872*&#45;&gt;4390305872</title>\n<path fill=\"none\" stroke=\"black\" d=\"M288.21,-128.5C296,-128.5 305.08,-128.5 314.82,-128.5\"/>\n<polygon fill=\"black\" stroke=\"black\" points=\"314.55,-132 324.55,-128.5 314.55,-125 314.55,-132\"/>\n</g>\n<!-- 4390293648 -->\n<g id=\"node6\" class=\"node\">\n<title>4390293648</title>\n<polygon fill=\"none\" stroke=\"black\" points=\"711.75,-137.5 711.75,-173.5 895.5,-173.5 895.5,-137.5 711.75,-137.5\"/>\n<text text-anchor=\"middle\" x=\"723.12\" y=\"-150.7\" font-family=\"Times,serif\" font-size=\"14.00\">b</text>\n<polyline fill=\"none\" stroke=\"black\" points=\"734.5,-138 734.5,-173.5\"/>\n<text text-anchor=\"middle\" x=\"774.38\" y=\"-150.7\" font-family=\"Times,serif\" font-size=\"14.00\">data 6.8814</text>\n<polyline fill=\"none\" stroke=\"black\" points=\"814.25,-138 814.25,-173.5\"/>\n<text text-anchor=\"middle\" x=\"854.88\" y=\"-150.7\" font-family=\"Times,serif\" font-size=\"14.00\">grad 0.5000</text>\n</g>\n<!-- 4390149952+ -->\n<g id=\"node11\" class=\"node\">\n<title>4390149952+</title>\n<ellipse fill=\"none\" stroke=\"black\" cx=\"1002\" cy=\"-127.5\" rx=\"27\" ry=\"18\"/>\n<text text-anchor=\"middle\" x=\"1002\" y=\"-122.45\" font-family=\"Times,serif\" font-size=\"14.00\">+</text>\n</g>\n<!-- 4390293648&#45;&gt;4390149952+ -->\n<g id=\"edge7\" class=\"edge\">\n<title>4390293648&#45;&gt;4390149952+</title>\n<path fill=\"none\" stroke=\"black\" d=\"M895.91,-142.48C919.97,-139.05 944.58,-135.55 963.93,-132.79\"/>\n<polygon fill=\"black\" stroke=\"black\" points=\"964.34,-136.26 973.75,-131.39 963.35,-129.33 964.34,-136.26\"/>\n</g>\n<!-- 4381769360 -->\n<g id=\"node7\" class=\"node\">\n<title>4381769360</title>\n<polygon fill=\"none\" stroke=\"black\" points=\"324,-55.5 324,-91.5 542.25,-91.5 542.25,-55.5 324,-55.5\"/>\n<text text-anchor=\"middle\" x=\"350.38\" y=\"-68.7\" font-family=\"Times,serif\" font-size=\"14.00\">x1*w1</text>\n<polyline fill=\"none\" stroke=\"black\" points=\"376.75,-56 376.75,-91.5\"/>\n<text text-anchor=\"middle\" x=\"418.88\" y=\"-68.7\" font-family=\"Times,serif\" font-size=\"14.00\">data &#45;6.0000</text>\n<polyline fill=\"none\" stroke=\"black\" points=\"461,-56 461,-91.5\"/>\n<text text-anchor=\"middle\" x=\"501.62\" y=\"-68.7\" font-family=\"Times,serif\" font-size=\"14.00\">grad 0.5000</text>\n</g>\n<!-- 4381769360&#45;&gt;4390149072+ -->\n<g id=\"edge6\" class=\"edge\">\n<title>4381769360&#45;&gt;4390149072+</title>\n<path fill=\"none\" stroke=\"black\" d=\"M542.35,-90.68C551.12,-92.07 559.54,-93.4 567.19,-94.62\"/>\n<polygon fill=\"black\" stroke=\"black\" points=\"566.59,-98.07 577.02,-96.18 567.69,-91.15 566.59,-98.07\"/>\n</g>\n<!-- 4381769360*&#45;&gt;4381769360 -->\n<g id=\"edge3\" class=\"edge\">\n<title>4381769360*&#45;&gt;4381769360</title>\n<path fill=\"none\" stroke=\"black\" d=\"M288.21,-73.5C295.29,-73.5 303.43,-73.5 312.17,-73.5\"/>\n<polygon fill=\"black\" stroke=\"black\" points=\"312.01,-77 322.01,-73.5 312.01,-70 312.01,-77\"/>\n</g>\n<!-- 4390195504 -->\n<g id=\"node9\" class=\"node\">\n<title>4390195504</title>\n<polygon fill=\"none\" stroke=\"black\" points=\"3.75,-165.5 3.75,-201.5 194.25,-201.5 194.25,-165.5 3.75,-165.5\"/>\n<text text-anchor=\"middle\" x=\"18.5\" y=\"-178.7\" font-family=\"Times,serif\" font-size=\"14.00\">x2</text>\n<polyline fill=\"none\" stroke=\"black\" points=\"33.25,-166 33.25,-201.5\"/>\n<text text-anchor=\"middle\" x=\"73.12\" y=\"-178.7\" font-family=\"Times,serif\" font-size=\"14.00\">data 0.0000</text>\n<polyline fill=\"none\" stroke=\"black\" points=\"113,-166 113,-201.5\"/>\n<text text-anchor=\"middle\" x=\"153.62\" y=\"-178.7\" font-family=\"Times,serif\" font-size=\"14.00\">grad 0.5000</text>\n</g>\n<!-- 4390195504&#45;&gt;4390305872* -->\n<g id=\"edge11\" class=\"edge\">\n<title>4390195504&#45;&gt;4390305872*</title>\n<path fill=\"none\" stroke=\"black\" d=\"M172.12,-165.01C180.9,-162.35 189.7,-159.5 198,-156.5 208.09,-152.86 218.82,-148.27 228.47,-143.88\"/>\n<polygon fill=\"black\" stroke=\"black\" points=\"229.86,-147.09 237.45,-139.69 226.9,-140.75 229.86,-147.09\"/>\n</g>\n<!-- 4390149952 -->\n<g id=\"node10\" class=\"node\">\n<title>4390149952</title>\n<polygon fill=\"none\" stroke=\"black\" points=\"1065,-109.5 1065,-145.5 1248.75,-145.5 1248.75,-109.5 1065,-109.5\"/>\n<text text-anchor=\"middle\" x=\"1076.38\" y=\"-122.7\" font-family=\"Times,serif\" font-size=\"14.00\">n</text>\n<polyline fill=\"none\" stroke=\"black\" points=\"1087.75,-110 1087.75,-145.5\"/>\n<text text-anchor=\"middle\" x=\"1127.62\" y=\"-122.7\" font-family=\"Times,serif\" font-size=\"14.00\">data 0.8814</text>\n<polyline fill=\"none\" stroke=\"black\" points=\"1167.5,-110 1167.5,-145.5\"/>\n<text text-anchor=\"middle\" x=\"1208.12\" y=\"-122.7\" font-family=\"Times,serif\" font-size=\"14.00\">grad 0.5000</text>\n</g>\n<!-- 4390149952&#45;&gt;4390270000tanh -->\n<g id=\"edge9\" class=\"edge\">\n<title>4390149952&#45;&gt;4390270000tanh</title>\n<path fill=\"none\" stroke=\"black\" d=\"M1249.01,-127.5C1257.39,-127.5 1265.52,-127.5 1272.98,-127.5\"/>\n<polygon fill=\"black\" stroke=\"black\" points=\"1272.95,-131 1282.95,-127.5 1272.95,-124 1272.95,-131\"/>\n</g>\n<!-- 4390149952+&#45;&gt;4390149952 -->\n<g id=\"edge4\" class=\"edge\">\n<title>4390149952+&#45;&gt;4390149952</title>\n<path fill=\"none\" stroke=\"black\" d=\"M1029.28,-127.5C1036.42,-127.5 1044.61,-127.5 1053.32,-127.5\"/>\n<polygon fill=\"black\" stroke=\"black\" points=\"1053.06,-131 1063.06,-127.5 1053.06,-124 1053.06,-131\"/>\n</g>\n<!-- 4390247728 -->\n<g id=\"node12\" class=\"node\">\n<title>4390247728</title>\n<polygon fill=\"none\" stroke=\"black\" points=\"2.25,-110.5 2.25,-146.5 195.75,-146.5 195.75,-110.5 2.25,-110.5\"/>\n<text text-anchor=\"middle\" x=\"18.5\" y=\"-123.7\" font-family=\"Times,serif\" font-size=\"14.00\">w2</text>\n<polyline fill=\"none\" stroke=\"black\" points=\"34.75,-111 34.75,-146.5\"/>\n<text text-anchor=\"middle\" x=\"74.62\" y=\"-123.7\" font-family=\"Times,serif\" font-size=\"14.00\">data 1.0000</text>\n<polyline fill=\"none\" stroke=\"black\" points=\"114.5,-111 114.5,-146.5\"/>\n<text text-anchor=\"middle\" x=\"155.12\" y=\"-123.7\" font-family=\"Times,serif\" font-size=\"14.00\">grad 0.0000</text>\n</g>\n<!-- 4390247728&#45;&gt;4390305872* -->\n<g id=\"edge14\" class=\"edge\">\n<title>4390247728&#45;&gt;4390305872*</title>\n<path fill=\"none\" stroke=\"black\" d=\"M195.84,-128.5C205.14,-128.5 214.15,-128.5 222.32,-128.5\"/>\n<polygon fill=\"black\" stroke=\"black\" points=\"222.13,-132 232.13,-128.5 222.13,-125 222.13,-132\"/>\n</g>\n<!-- 4390149072 -->\n<g id=\"node13\" class=\"node\">\n<title>4390149072</title>\n<polygon fill=\"none\" stroke=\"black\" points=\"668.25,-82.5 668.25,-118.5 939,-118.5 939,-82.5 668.25,-82.5\"/>\n<text text-anchor=\"middle\" x=\"720.88\" y=\"-95.7\" font-family=\"Times,serif\" font-size=\"14.00\">x1*w1 + x2*w2</text>\n<polyline fill=\"none\" stroke=\"black\" points=\"773.5,-83 773.5,-118.5\"/>\n<text text-anchor=\"middle\" x=\"815.62\" y=\"-95.7\" font-family=\"Times,serif\" font-size=\"14.00\">data &#45;6.0000</text>\n<polyline fill=\"none\" stroke=\"black\" points=\"857.75,-83 857.75,-118.5\"/>\n<text text-anchor=\"middle\" x=\"898.38\" y=\"-95.7\" font-family=\"Times,serif\" font-size=\"14.00\">grad 0.5000</text>\n</g>\n<!-- 4390149072&#45;&gt;4390149952+ -->\n<g id=\"edge13\" class=\"edge\">\n<title>4390149072&#45;&gt;4390149952+</title>\n<path fill=\"none\" stroke=\"black\" d=\"M939.14,-118.99C947.95,-120.21 956.31,-121.36 963.87,-122.4\"/>\n<polygon fill=\"black\" stroke=\"black\" points=\"963.16,-125.83 973.55,-123.73 964.12,-118.9 963.16,-125.83\"/>\n</g>\n<!-- 4390149072+&#45;&gt;4390149072 -->\n<g id=\"edge5\" class=\"edge\">\n<title>4390149072+&#45;&gt;4390149072</title>\n<path fill=\"none\" stroke=\"black\" d=\"M632.73,-100.5C639.73,-100.5 647.79,-100.5 656.52,-100.5\"/>\n<polygon fill=\"black\" stroke=\"black\" points=\"656.39,-104 666.39,-100.5 656.39,-97 656.39,-104\"/>\n</g>\n<!-- 4390196704 -->\n<g id=\"node15\" class=\"node\">\n<title>4390196704</title>\n<polygon fill=\"none\" stroke=\"black\" points=\"1.5,-0.5 1.5,-36.5 196.5,-36.5 196.5,-0.5 1.5,-0.5\"/>\n<text text-anchor=\"middle\" x=\"16.25\" y=\"-13.7\" font-family=\"Times,serif\" font-size=\"14.00\">x1</text>\n<polyline fill=\"none\" stroke=\"black\" points=\"31,-1 31,-36.5\"/>\n<text text-anchor=\"middle\" x=\"70.88\" y=\"-13.7\" font-family=\"Times,serif\" font-size=\"14.00\">data 2.0000</text>\n<polyline fill=\"none\" stroke=\"black\" points=\"110.75,-1 110.75,-36.5\"/>\n<text text-anchor=\"middle\" x=\"153.62\" y=\"-13.7\" font-family=\"Times,serif\" font-size=\"14.00\">grad &#45;1.5000</text>\n</g>\n<!-- 4390196704&#45;&gt;4381769360* -->\n<g id=\"edge8\" class=\"edge\">\n<title>4390196704&#45;&gt;4381769360*</title>\n<path fill=\"none\" stroke=\"black\" d=\"M168.91,-36.94C178.74,-39.93 188.67,-43.15 198,-46.5 207.96,-50.07 218.58,-54.47 228.18,-58.68\"/>\n<polygon fill=\"black\" stroke=\"black\" points=\"226.54,-61.78 237.1,-62.67 229.4,-55.39 226.54,-61.78\"/>\n</g>\n</g>\n</svg>\n",
      "text/plain": [
       "<graphviz.graphs.Digraph at 0x10535eb10>"
      ]
     },
     "execution_count": 15,
     "metadata": {},
     "output_type": "execute_result"
    }
   ],
   "execution_count": 15
  },
  {
   "metadata": {},
   "cell_type": "markdown",
   "source": [
    "**Back propagation of the neuron (Automated)**\n",
    "- In back propagation, the gradients are calculated in topological order\n",
    "    - We need to get the dependencies of the a particular node taken care of before calling ._backward() on a particular node as shown below (o to x1/x2)\n",
    "    - This ordering of the graphs can be achieved through topological sort"
   ],
   "id": "6638ba0b12bfc0d0"
  },
  {
   "metadata": {
    "ExecuteTime": {
     "end_time": "2025-05-22T00:10:12.030498Z",
     "start_time": "2025-05-22T00:10:11.926963Z"
    }
   },
   "cell_type": "code",
   "source": [
    "# inputs x1, x2\n",
    "x1 = Value(2.0, label='x1')\n",
    "x2 = Value(0.0, label='x2')\n",
    "# weights w1, w2\n",
    "w1 = Value(-3.0, label='w1')\n",
    "w2 = Value(1.0, label='w2')\n",
    "# bias of the neuron\n",
    "b = Value(6.8813735870195432, label='b')\n",
    "# x1*w1 + x2*w2 + b\n",
    "x1w1 = x1*w1; x1w1.label = 'x1*w1'\n",
    "x2w2 = x2*w2; x2w2.label = 'x2*w2'\n",
    "x1w1x2w2 = x1w1 + x2w2; x1w1x2w2.label = 'x1*w1 + x2*w2'\n",
    "n = x1w1x2w2 + b; n.label = 'n'\n",
    "# activation function (tanh)\n",
    "e = (2 * n).exp()\n",
    "o = (e - 1) / (e + 1); o.label = 'o'\n",
    "o.backward()\n",
    "draw_dot(o)"
   ],
   "id": "27b4f154fa3c58ae",
   "outputs": [
    {
     "data": {
      "image/svg+xml": "<?xml version=\"1.0\" encoding=\"UTF-8\" standalone=\"no\"?>\n<!DOCTYPE svg PUBLIC \"-//W3C//DTD SVG 1.1//EN\"\n \"http://www.w3.org/Graphics/SVG/1.1/DTD/svg11.dtd\">\n<!-- Generated by graphviz version 12.2.1 (20241206.2353)\n -->\n<!-- Pages: 1 -->\n<svg width=\"2929pt\" height=\"210pt\"\n viewBox=\"0.00 0.00 2929.25 210.00\" xmlns=\"http://www.w3.org/2000/svg\" xmlns:xlink=\"http://www.w3.org/1999/xlink\">\n<g id=\"graph0\" class=\"graph\" transform=\"scale(1 1) rotate(0) translate(4 206)\">\n<polygon fill=\"white\" stroke=\"none\" points=\"-4,4 -4,-206 2925.25,-206 2925.25,4 -4,4\"/>\n<!-- 4412706832 -->\n<g id=\"node1\" class=\"node\">\n<title>4412706832</title>\n<polygon fill=\"none\" stroke=\"black\" points=\"1681.5,-136.5 1681.5,-172.5 1866.75,-172.5 1866.75,-136.5 1681.5,-136.5\"/>\n<text text-anchor=\"middle\" x=\"1691.38\" y=\"-149.7\" font-family=\"Times,serif\" font-size=\"14.00\"> </text>\n<polyline fill=\"none\" stroke=\"black\" points=\"1701.25,-137 1701.25,-172.5\"/>\n<text text-anchor=\"middle\" x=\"1743.38\" y=\"-149.7\" font-family=\"Times,serif\" font-size=\"14.00\">data &#45;1.0000</text>\n<polyline fill=\"none\" stroke=\"black\" points=\"1785.5,-137 1785.5,-172.5\"/>\n<text text-anchor=\"middle\" x=\"1826.12\" y=\"-149.7\" font-family=\"Times,serif\" font-size=\"14.00\">grad 0.1464</text>\n</g>\n<!-- 4412711312+ -->\n<g id=\"node24\" class=\"node\">\n<title>4412711312+</title>\n<ellipse fill=\"none\" stroke=\"black\" cx=\"1929.75\" cy=\"-126.5\" rx=\"27\" ry=\"18\"/>\n<text text-anchor=\"middle\" x=\"1929.75\" y=\"-121.45\" font-family=\"Times,serif\" font-size=\"14.00\">+</text>\n</g>\n<!-- 4412706832&#45;&gt;4412711312+ -->\n<g id=\"edge27\" class=\"edge\">\n<title>4412706832&#45;&gt;4412711312+</title>\n<path fill=\"none\" stroke=\"black\" d=\"M1867.15,-137.73C1875.89,-136.13 1884.36,-134.59 1892.08,-133.18\"/>\n<polygon fill=\"black\" stroke=\"black\" points=\"1892.45,-136.67 1901.66,-131.44 1891.19,-129.79 1892.45,-136.67\"/>\n</g>\n<!-- 4393964080 -->\n<g id=\"node2\" class=\"node\">\n<title>4393964080</title>\n<polygon fill=\"none\" stroke=\"black\" points=\"2737.5,-80.5 2737.5,-116.5 2921.25,-116.5 2921.25,-80.5 2737.5,-80.5\"/>\n<text text-anchor=\"middle\" x=\"2748.88\" y=\"-93.7\" font-family=\"Times,serif\" font-size=\"14.00\">o</text>\n<polyline fill=\"none\" stroke=\"black\" points=\"2760.25,-81 2760.25,-116.5\"/>\n<text text-anchor=\"middle\" x=\"2800.12\" y=\"-93.7\" font-family=\"Times,serif\" font-size=\"14.00\">data 0.7071</text>\n<polyline fill=\"none\" stroke=\"black\" points=\"2840,-81 2840,-116.5\"/>\n<text text-anchor=\"middle\" x=\"2880.62\" y=\"-93.7\" font-family=\"Times,serif\" font-size=\"14.00\">grad 1.0000</text>\n</g>\n<!-- 4393964080* -->\n<g id=\"node3\" class=\"node\">\n<title>4393964080*</title>\n<ellipse fill=\"none\" stroke=\"black\" cx=\"2674.5\" cy=\"-98.5\" rx=\"27\" ry=\"18\"/>\n<text text-anchor=\"middle\" x=\"2674.5\" y=\"-93.45\" font-family=\"Times,serif\" font-size=\"14.00\">*</text>\n</g>\n<!-- 4393964080*&#45;&gt;4393964080 -->\n<g id=\"edge1\" class=\"edge\">\n<title>4393964080*&#45;&gt;4393964080</title>\n<path fill=\"none\" stroke=\"black\" d=\"M2701.78,-98.5C2708.92,-98.5 2717.11,-98.5 2725.82,-98.5\"/>\n<polygon fill=\"black\" stroke=\"black\" points=\"2725.56,-102 2735.56,-98.5 2725.56,-95 2725.56,-102\"/>\n</g>\n<!-- 4389955664 -->\n<g id=\"node4\" class=\"node\">\n<title>4389955664</title>\n<polygon fill=\"none\" stroke=\"black\" points=\"1065,-109.5 1065,-145.5 1248.75,-145.5 1248.75,-109.5 1065,-109.5\"/>\n<text text-anchor=\"middle\" x=\"1076.38\" y=\"-122.7\" font-family=\"Times,serif\" font-size=\"14.00\">n</text>\n<polyline fill=\"none\" stroke=\"black\" points=\"1087.75,-110 1087.75,-145.5\"/>\n<text text-anchor=\"middle\" x=\"1127.62\" y=\"-122.7\" font-family=\"Times,serif\" font-size=\"14.00\">data 0.8814</text>\n<polyline fill=\"none\" stroke=\"black\" points=\"1167.5,-110 1167.5,-145.5\"/>\n<text text-anchor=\"middle\" x=\"1208.12\" y=\"-122.7\" font-family=\"Times,serif\" font-size=\"14.00\">grad 0.5000</text>\n</g>\n<!-- 4393641424* -->\n<g id=\"node28\" class=\"node\">\n<title>4393641424*</title>\n<ellipse fill=\"none\" stroke=\"black\" cx=\"1311.75\" cy=\"-99.5\" rx=\"27\" ry=\"18\"/>\n<text text-anchor=\"middle\" x=\"1311.75\" y=\"-94.45\" font-family=\"Times,serif\" font-size=\"14.00\">*</text>\n</g>\n<!-- 4389955664&#45;&gt;4393641424* -->\n<g id=\"edge19\" class=\"edge\">\n<title>4389955664&#45;&gt;4393641424*</title>\n<path fill=\"none\" stroke=\"black\" d=\"M1249.01,-110.81C1257.84,-109.19 1266.4,-107.62 1274.19,-106.2\"/>\n<polygon fill=\"black\" stroke=\"black\" points=\"1274.67,-109.67 1283.88,-104.42 1273.41,-102.78 1274.67,-109.67\"/>\n</g>\n<!-- 4389955664+ -->\n<g id=\"node5\" class=\"node\">\n<title>4389955664+</title>\n<ellipse fill=\"none\" stroke=\"black\" cx=\"1002\" cy=\"-127.5\" rx=\"27\" ry=\"18\"/>\n<text text-anchor=\"middle\" x=\"1002\" y=\"-122.45\" font-family=\"Times,serif\" font-size=\"14.00\">+</text>\n</g>\n<!-- 4389955664+&#45;&gt;4389955664 -->\n<g id=\"edge2\" class=\"edge\">\n<title>4389955664+&#45;&gt;4389955664</title>\n<path fill=\"none\" stroke=\"black\" d=\"M1029.28,-127.5C1036.42,-127.5 1044.61,-127.5 1053.32,-127.5\"/>\n<polygon fill=\"black\" stroke=\"black\" points=\"1053.06,-131 1063.06,-127.5 1053.06,-124 1053.06,-131\"/>\n</g>\n<!-- 4390321808 -->\n<g id=\"node6\" class=\"node\">\n<title>4390321808</title>\n<polygon fill=\"none\" stroke=\"black\" points=\"1992.75,-53.5 1992.75,-89.5 2178,-89.5 2178,-53.5 1992.75,-53.5\"/>\n<text text-anchor=\"middle\" x=\"2002.62\" y=\"-66.7\" font-family=\"Times,serif\" font-size=\"14.00\"> </text>\n<polyline fill=\"none\" stroke=\"black\" points=\"2012.5,-54 2012.5,-89.5\"/>\n<text text-anchor=\"middle\" x=\"2052.38\" y=\"-66.7\" font-family=\"Times,serif\" font-size=\"14.00\">data 6.8284</text>\n<polyline fill=\"none\" stroke=\"black\" points=\"2092.25,-54 2092.25,-89.5\"/>\n<text text-anchor=\"middle\" x=\"2135.12\" y=\"-66.7\" font-family=\"Times,serif\" font-size=\"14.00\">grad &#45;0.1036</text>\n</g>\n<!-- 4390318928**&#45;1 -->\n<g id=\"node20\" class=\"node\">\n<title>4390318928**&#45;1</title>\n<ellipse fill=\"none\" stroke=\"black\" cx=\"2304.38\" cy=\"-71.5\" rx=\"27.81\" ry=\"18\"/>\n<text text-anchor=\"middle\" x=\"2304.38\" y=\"-66.45\" font-family=\"Times,serif\" font-size=\"14.00\">**&#45;1</text>\n</g>\n<!-- 4390321808&#45;&gt;4390318928**&#45;1 -->\n<g id=\"edge16\" class=\"edge\">\n<title>4390321808&#45;&gt;4390318928**&#45;1</title>\n<path fill=\"none\" stroke=\"black\" d=\"M2178.4,-71.5C2208.64,-71.5 2240.63,-71.5 2264.67,-71.5\"/>\n<polygon fill=\"black\" stroke=\"black\" points=\"2264.62,-75 2274.62,-71.5 2264.62,-68 2264.62,-75\"/>\n</g>\n<!-- 4390321808+ -->\n<g id=\"node7\" class=\"node\">\n<title>4390321808+</title>\n<ellipse fill=\"none\" stroke=\"black\" cx=\"1929.75\" cy=\"-71.5\" rx=\"27\" ry=\"18\"/>\n<text text-anchor=\"middle\" x=\"1929.75\" y=\"-66.45\" font-family=\"Times,serif\" font-size=\"14.00\">+</text>\n</g>\n<!-- 4390321808+&#45;&gt;4390321808 -->\n<g id=\"edge3\" class=\"edge\">\n<title>4390321808+&#45;&gt;4390321808</title>\n<path fill=\"none\" stroke=\"black\" d=\"M1957.16,-71.5C1964.2,-71.5 1972.25,-71.5 1980.8,-71.5\"/>\n<polygon fill=\"black\" stroke=\"black\" points=\"1980.79,-75 1990.79,-71.5 1980.79,-68 1980.79,-75\"/>\n</g>\n<!-- 4393904304 -->\n<g id=\"node8\" class=\"node\">\n<title>4393904304</title>\n<polygon fill=\"none\" stroke=\"black\" points=\"711.75,-137.5 711.75,-173.5 895.5,-173.5 895.5,-137.5 711.75,-137.5\"/>\n<text text-anchor=\"middle\" x=\"723.12\" y=\"-150.7\" font-family=\"Times,serif\" font-size=\"14.00\">b</text>\n<polyline fill=\"none\" stroke=\"black\" points=\"734.5,-138 734.5,-173.5\"/>\n<text text-anchor=\"middle\" x=\"774.38\" y=\"-150.7\" font-family=\"Times,serif\" font-size=\"14.00\">data 6.8814</text>\n<polyline fill=\"none\" stroke=\"black\" points=\"814.25,-138 814.25,-173.5\"/>\n<text text-anchor=\"middle\" x=\"854.88\" y=\"-150.7\" font-family=\"Times,serif\" font-size=\"14.00\">grad 0.5000</text>\n</g>\n<!-- 4393904304&#45;&gt;4389955664+ -->\n<g id=\"edge25\" class=\"edge\">\n<title>4393904304&#45;&gt;4389955664+</title>\n<path fill=\"none\" stroke=\"black\" d=\"M895.91,-142.48C919.97,-139.05 944.58,-135.55 963.93,-132.79\"/>\n<polygon fill=\"black\" stroke=\"black\" points=\"964.34,-136.26 973.75,-131.39 963.35,-129.33 964.34,-136.26\"/>\n</g>\n<!-- 4394049424 -->\n<g id=\"node9\" class=\"node\">\n<title>4394049424</title>\n<polygon fill=\"none\" stroke=\"black\" points=\"0,-55.5 0,-91.5 198,-91.5 198,-55.5 0,-55.5\"/>\n<text text-anchor=\"middle\" x=\"16.25\" y=\"-68.7\" font-family=\"Times,serif\" font-size=\"14.00\">w1</text>\n<polyline fill=\"none\" stroke=\"black\" points=\"32.5,-56 32.5,-91.5\"/>\n<text text-anchor=\"middle\" x=\"74.62\" y=\"-68.7\" font-family=\"Times,serif\" font-size=\"14.00\">data &#45;3.0000</text>\n<polyline fill=\"none\" stroke=\"black\" points=\"116.75,-56 116.75,-91.5\"/>\n<text text-anchor=\"middle\" x=\"157.38\" y=\"-68.7\" font-family=\"Times,serif\" font-size=\"14.00\">grad 1.0000</text>\n</g>\n<!-- 4383176560* -->\n<g id=\"node22\" class=\"node\">\n<title>4383176560*</title>\n<ellipse fill=\"none\" stroke=\"black\" cx=\"261\" cy=\"-73.5\" rx=\"27\" ry=\"18\"/>\n<text text-anchor=\"middle\" x=\"261\" y=\"-68.45\" font-family=\"Times,serif\" font-size=\"14.00\">*</text>\n</g>\n<!-- 4394049424&#45;&gt;4383176560* -->\n<g id=\"edge17\" class=\"edge\">\n<title>4394049424&#45;&gt;4383176560*</title>\n<path fill=\"none\" stroke=\"black\" d=\"M198.14,-73.5C206.61,-73.5 214.8,-73.5 222.29,-73.5\"/>\n<polygon fill=\"black\" stroke=\"black\" points=\"222.29,-77 232.29,-73.5 222.29,-70 222.29,-77\"/>\n</g>\n<!-- 4383257808 -->\n<g id=\"node10\" class=\"node\">\n<title>4383257808</title>\n<polygon fill=\"none\" stroke=\"black\" points=\"1.5,-0.5 1.5,-36.5 196.5,-36.5 196.5,-0.5 1.5,-0.5\"/>\n<text text-anchor=\"middle\" x=\"16.25\" y=\"-13.7\" font-family=\"Times,serif\" font-size=\"14.00\">x1</text>\n<polyline fill=\"none\" stroke=\"black\" points=\"31,-1 31,-36.5\"/>\n<text text-anchor=\"middle\" x=\"70.88\" y=\"-13.7\" font-family=\"Times,serif\" font-size=\"14.00\">data 2.0000</text>\n<polyline fill=\"none\" stroke=\"black\" points=\"110.75,-1 110.75,-36.5\"/>\n<text text-anchor=\"middle\" x=\"153.62\" y=\"-13.7\" font-family=\"Times,serif\" font-size=\"14.00\">grad &#45;1.5000</text>\n</g>\n<!-- 4383257808&#45;&gt;4383176560* -->\n<g id=\"edge18\" class=\"edge\">\n<title>4383257808&#45;&gt;4383176560*</title>\n<path fill=\"none\" stroke=\"black\" d=\"M172.12,-36.99C180.9,-39.65 189.7,-42.5 198,-45.5 208.09,-49.14 218.82,-53.73 228.47,-58.12\"/>\n<polygon fill=\"black\" stroke=\"black\" points=\"226.9,-61.25 237.45,-62.31 229.86,-54.91 226.9,-61.25\"/>\n</g>\n<!-- 4381866960 -->\n<g id=\"node11\" class=\"node\">\n<title>4381866960</title>\n<polygon fill=\"none\" stroke=\"black\" points=\"326.25,-110.5 326.25,-146.5 540,-146.5 540,-110.5 326.25,-110.5\"/>\n<text text-anchor=\"middle\" x=\"352.62\" y=\"-123.7\" font-family=\"Times,serif\" font-size=\"14.00\">x2*w2</text>\n<polyline fill=\"none\" stroke=\"black\" points=\"379,-111 379,-146.5\"/>\n<text text-anchor=\"middle\" x=\"418.88\" y=\"-123.7\" font-family=\"Times,serif\" font-size=\"14.00\">data 0.0000</text>\n<polyline fill=\"none\" stroke=\"black\" points=\"458.75,-111 458.75,-146.5\"/>\n<text text-anchor=\"middle\" x=\"499.38\" y=\"-123.7\" font-family=\"Times,serif\" font-size=\"14.00\">grad 0.5000</text>\n</g>\n<!-- 4383424256+ -->\n<g id=\"node14\" class=\"node\">\n<title>4383424256+</title>\n<ellipse fill=\"none\" stroke=\"black\" cx=\"605.25\" cy=\"-100.5\" rx=\"27\" ry=\"18\"/>\n<text text-anchor=\"middle\" x=\"605.25\" y=\"-95.45\" font-family=\"Times,serif\" font-size=\"14.00\">+</text>\n</g>\n<!-- 4381866960&#45;&gt;4383424256+ -->\n<g id=\"edge20\" class=\"edge\">\n<title>4381866960&#45;&gt;4383424256+</title>\n<path fill=\"none\" stroke=\"black\" d=\"M540.42,-111.01C549.89,-109.45 559,-107.95 567.21,-106.6\"/>\n<polygon fill=\"black\" stroke=\"black\" points=\"567.75,-110.05 577.05,-104.98 566.62,-103.15 567.75,-110.05\"/>\n</g>\n<!-- 4381866960* -->\n<g id=\"node12\" class=\"node\">\n<title>4381866960*</title>\n<ellipse fill=\"none\" stroke=\"black\" cx=\"261\" cy=\"-128.5\" rx=\"27\" ry=\"18\"/>\n<text text-anchor=\"middle\" x=\"261\" y=\"-123.45\" font-family=\"Times,serif\" font-size=\"14.00\">*</text>\n</g>\n<!-- 4381866960*&#45;&gt;4381866960 -->\n<g id=\"edge4\" class=\"edge\">\n<title>4381866960*&#45;&gt;4381866960</title>\n<path fill=\"none\" stroke=\"black\" d=\"M288.21,-128.5C296,-128.5 305.08,-128.5 314.82,-128.5\"/>\n<polygon fill=\"black\" stroke=\"black\" points=\"314.55,-132 324.55,-128.5 314.55,-125 314.55,-132\"/>\n</g>\n<!-- 4383424256 -->\n<g id=\"node13\" class=\"node\">\n<title>4383424256</title>\n<polygon fill=\"none\" stroke=\"black\" points=\"668.25,-82.5 668.25,-118.5 939,-118.5 939,-82.5 668.25,-82.5\"/>\n<text text-anchor=\"middle\" x=\"720.88\" y=\"-95.7\" font-family=\"Times,serif\" font-size=\"14.00\">x1*w1 + x2*w2</text>\n<polyline fill=\"none\" stroke=\"black\" points=\"773.5,-83 773.5,-118.5\"/>\n<text text-anchor=\"middle\" x=\"815.62\" y=\"-95.7\" font-family=\"Times,serif\" font-size=\"14.00\">data &#45;6.0000</text>\n<polyline fill=\"none\" stroke=\"black\" points=\"857.75,-83 857.75,-118.5\"/>\n<text text-anchor=\"middle\" x=\"898.38\" y=\"-95.7\" font-family=\"Times,serif\" font-size=\"14.00\">grad 0.5000</text>\n</g>\n<!-- 4383424256&#45;&gt;4389955664+ -->\n<g id=\"edge12\" class=\"edge\">\n<title>4383424256&#45;&gt;4389955664+</title>\n<path fill=\"none\" stroke=\"black\" d=\"M939.14,-118.99C947.95,-120.21 956.31,-121.36 963.87,-122.4\"/>\n<polygon fill=\"black\" stroke=\"black\" points=\"963.16,-125.83 973.55,-123.73 964.12,-118.9 963.16,-125.83\"/>\n</g>\n<!-- 4383424256+&#45;&gt;4383424256 -->\n<g id=\"edge5\" class=\"edge\">\n<title>4383424256+&#45;&gt;4383424256</title>\n<path fill=\"none\" stroke=\"black\" d=\"M632.73,-100.5C639.73,-100.5 647.79,-100.5 656.52,-100.5\"/>\n<polygon fill=\"black\" stroke=\"black\" points=\"656.39,-104 666.39,-100.5 656.39,-97 656.39,-104\"/>\n</g>\n<!-- 4394053904 -->\n<g id=\"node15\" class=\"node\">\n<title>4394053904</title>\n<polygon fill=\"none\" stroke=\"black\" points=\"3.75,-165.5 3.75,-201.5 194.25,-201.5 194.25,-165.5 3.75,-165.5\"/>\n<text text-anchor=\"middle\" x=\"18.5\" y=\"-178.7\" font-family=\"Times,serif\" font-size=\"14.00\">x2</text>\n<polyline fill=\"none\" stroke=\"black\" points=\"33.25,-166 33.25,-201.5\"/>\n<text text-anchor=\"middle\" x=\"73.12\" y=\"-178.7\" font-family=\"Times,serif\" font-size=\"14.00\">data 0.0000</text>\n<polyline fill=\"none\" stroke=\"black\" points=\"113,-166 113,-201.5\"/>\n<text text-anchor=\"middle\" x=\"153.62\" y=\"-178.7\" font-family=\"Times,serif\" font-size=\"14.00\">grad 0.5000</text>\n</g>\n<!-- 4394053904&#45;&gt;4381866960* -->\n<g id=\"edge23\" class=\"edge\">\n<title>4394053904&#45;&gt;4381866960*</title>\n<path fill=\"none\" stroke=\"black\" d=\"M172.12,-165.01C180.9,-162.35 189.7,-159.5 198,-156.5 208.09,-152.86 218.82,-148.27 228.47,-143.88\"/>\n<polygon fill=\"black\" stroke=\"black\" points=\"229.86,-147.09 237.45,-139.69 226.9,-140.75 229.86,-147.09\"/>\n</g>\n<!-- 4393904912 -->\n<g id=\"node16\" class=\"node\">\n<title>4393904912</title>\n<polygon fill=\"none\" stroke=\"black\" points=\"2.25,-110.5 2.25,-146.5 195.75,-146.5 195.75,-110.5 2.25,-110.5\"/>\n<text text-anchor=\"middle\" x=\"18.5\" y=\"-123.7\" font-family=\"Times,serif\" font-size=\"14.00\">w2</text>\n<polyline fill=\"none\" stroke=\"black\" points=\"34.75,-111 34.75,-146.5\"/>\n<text text-anchor=\"middle\" x=\"74.62\" y=\"-123.7\" font-family=\"Times,serif\" font-size=\"14.00\">data 1.0000</text>\n<polyline fill=\"none\" stroke=\"black\" points=\"114.5,-111 114.5,-146.5\"/>\n<text text-anchor=\"middle\" x=\"155.12\" y=\"-123.7\" font-family=\"Times,serif\" font-size=\"14.00\">grad 0.0000</text>\n</g>\n<!-- 4393904912&#45;&gt;4381866960* -->\n<g id=\"edge24\" class=\"edge\">\n<title>4393904912&#45;&gt;4381866960*</title>\n<path fill=\"none\" stroke=\"black\" d=\"M195.84,-128.5C205.14,-128.5 214.15,-128.5 222.32,-128.5\"/>\n<polygon fill=\"black\" stroke=\"black\" points=\"222.13,-132 232.13,-128.5 222.13,-125 222.13,-132\"/>\n</g>\n<!-- 4394501424 -->\n<g id=\"node17\" class=\"node\">\n<title>4394501424</title>\n<polygon fill=\"none\" stroke=\"black\" points=\"1681.5,-26.5 1681.5,-62.5 1866.75,-62.5 1866.75,-26.5 1681.5,-26.5\"/>\n<text text-anchor=\"middle\" x=\"1691.38\" y=\"-39.7\" font-family=\"Times,serif\" font-size=\"14.00\"> </text>\n<polyline fill=\"none\" stroke=\"black\" points=\"1701.25,-27 1701.25,-62.5\"/>\n<text text-anchor=\"middle\" x=\"1741.12\" y=\"-39.7\" font-family=\"Times,serif\" font-size=\"14.00\">data 1.0000</text>\n<polyline fill=\"none\" stroke=\"black\" points=\"1781,-27 1781,-62.5\"/>\n<text text-anchor=\"middle\" x=\"1823.88\" y=\"-39.7\" font-family=\"Times,serif\" font-size=\"14.00\">grad &#45;0.1036</text>\n</g>\n<!-- 4394501424&#45;&gt;4390321808+ -->\n<g id=\"edge26\" class=\"edge\">\n<title>4394501424&#45;&gt;4390321808+</title>\n<path fill=\"none\" stroke=\"black\" d=\"M1867.15,-60.67C1875.89,-62.21 1884.36,-63.7 1892.08,-65.05\"/>\n<polygon fill=\"black\" stroke=\"black\" points=\"1891.2,-68.45 1901.66,-66.74 1892.41,-61.56 1891.2,-68.45\"/>\n</g>\n<!-- 4389957456 -->\n<g id=\"node18\" class=\"node\">\n<title>4389957456</title>\n<polygon fill=\"none\" stroke=\"black\" points=\"1066.5,-54.5 1066.5,-90.5 1247.25,-90.5 1247.25,-54.5 1066.5,-54.5\"/>\n<text text-anchor=\"middle\" x=\"1076.38\" y=\"-67.7\" font-family=\"Times,serif\" font-size=\"14.00\"> </text>\n<polyline fill=\"none\" stroke=\"black\" points=\"1086.25,-55 1086.25,-90.5\"/>\n<text text-anchor=\"middle\" x=\"1126.12\" y=\"-67.7\" font-family=\"Times,serif\" font-size=\"14.00\">data 2.0000</text>\n<polyline fill=\"none\" stroke=\"black\" points=\"1166,-55 1166,-90.5\"/>\n<text text-anchor=\"middle\" x=\"1206.62\" y=\"-67.7\" font-family=\"Times,serif\" font-size=\"14.00\">grad 0.2203</text>\n</g>\n<!-- 4389957456&#45;&gt;4393641424* -->\n<g id=\"edge21\" class=\"edge\">\n<title>4389957456&#45;&gt;4393641424*</title>\n<path fill=\"none\" stroke=\"black\" d=\"M1247.69,-88.36C1256.94,-90 1265.93,-91.58 1274.08,-93.02\"/>\n<polygon fill=\"black\" stroke=\"black\" points=\"1273.41,-96.46 1283.87,-94.75 1274.63,-89.57 1273.41,-96.46\"/>\n</g>\n<!-- 4390318928 -->\n<g id=\"node19\" class=\"node\">\n<title>4390318928</title>\n<polygon fill=\"none\" stroke=\"black\" points=\"2430.75,-57.5 2430.75,-93.5 2611.5,-93.5 2611.5,-57.5 2430.75,-57.5\"/>\n<text text-anchor=\"middle\" x=\"2440.62\" y=\"-70.7\" font-family=\"Times,serif\" font-size=\"14.00\"> </text>\n<polyline fill=\"none\" stroke=\"black\" points=\"2450.5,-58 2450.5,-93.5\"/>\n<text text-anchor=\"middle\" x=\"2490.38\" y=\"-70.7\" font-family=\"Times,serif\" font-size=\"14.00\">data 0.1464</text>\n<polyline fill=\"none\" stroke=\"black\" points=\"2530.25,-58 2530.25,-93.5\"/>\n<text text-anchor=\"middle\" x=\"2570.88\" y=\"-70.7\" font-family=\"Times,serif\" font-size=\"14.00\">grad 4.8284</text>\n</g>\n<!-- 4390318928&#45;&gt;4393964080* -->\n<g id=\"edge11\" class=\"edge\">\n<title>4390318928&#45;&gt;4393964080*</title>\n<path fill=\"none\" stroke=\"black\" d=\"M2611.93,-89.15C2620.54,-90.45 2628.89,-91.72 2636.53,-92.88\"/>\n<polygon fill=\"black\" stroke=\"black\" points=\"2635.96,-96.34 2646.37,-94.38 2637.01,-89.41 2635.96,-96.34\"/>\n</g>\n<!-- 4390318928**&#45;1&#45;&gt;4390318928 -->\n<g id=\"edge6\" class=\"edge\">\n<title>4390318928**&#45;1&#45;&gt;4390318928</title>\n<path fill=\"none\" stroke=\"black\" d=\"M2332.57,-72.01C2354.68,-72.42 2387.33,-73.03 2419.22,-73.62\"/>\n<polygon fill=\"black\" stroke=\"black\" points=\"2418.87,-77.11 2428.93,-73.8 2419,-70.12 2418.87,-77.11\"/>\n</g>\n<!-- 4383176560 -->\n<g id=\"node21\" class=\"node\">\n<title>4383176560</title>\n<polygon fill=\"none\" stroke=\"black\" points=\"324,-55.5 324,-91.5 542.25,-91.5 542.25,-55.5 324,-55.5\"/>\n<text text-anchor=\"middle\" x=\"350.38\" y=\"-68.7\" font-family=\"Times,serif\" font-size=\"14.00\">x1*w1</text>\n<polyline fill=\"none\" stroke=\"black\" points=\"376.75,-56 376.75,-91.5\"/>\n<text text-anchor=\"middle\" x=\"418.88\" y=\"-68.7\" font-family=\"Times,serif\" font-size=\"14.00\">data &#45;6.0000</text>\n<polyline fill=\"none\" stroke=\"black\" points=\"461,-56 461,-91.5\"/>\n<text text-anchor=\"middle\" x=\"501.62\" y=\"-68.7\" font-family=\"Times,serif\" font-size=\"14.00\">grad 0.5000</text>\n</g>\n<!-- 4383176560&#45;&gt;4383424256+ -->\n<g id=\"edge14\" class=\"edge\">\n<title>4383176560&#45;&gt;4383424256+</title>\n<path fill=\"none\" stroke=\"black\" d=\"M542.35,-90.68C551.12,-92.07 559.54,-93.4 567.19,-94.62\"/>\n<polygon fill=\"black\" stroke=\"black\" points=\"566.59,-98.07 577.02,-96.18 567.69,-91.15 566.59,-98.07\"/>\n</g>\n<!-- 4383176560*&#45;&gt;4383176560 -->\n<g id=\"edge7\" class=\"edge\">\n<title>4383176560*&#45;&gt;4383176560</title>\n<path fill=\"none\" stroke=\"black\" d=\"M288.21,-73.5C295.29,-73.5 303.43,-73.5 312.17,-73.5\"/>\n<polygon fill=\"black\" stroke=\"black\" points=\"312.01,-77 322.01,-73.5 312.01,-70 312.01,-77\"/>\n</g>\n<!-- 4412711312 -->\n<g id=\"node23\" class=\"node\">\n<title>4412711312</title>\n<polygon fill=\"none\" stroke=\"black\" points=\"2214,-108.5 2214,-144.5 2394.75,-144.5 2394.75,-108.5 2214,-108.5\"/>\n<text text-anchor=\"middle\" x=\"2223.88\" y=\"-121.7\" font-family=\"Times,serif\" font-size=\"14.00\"> </text>\n<polyline fill=\"none\" stroke=\"black\" points=\"2233.75,-109 2233.75,-144.5\"/>\n<text text-anchor=\"middle\" x=\"2273.62\" y=\"-121.7\" font-family=\"Times,serif\" font-size=\"14.00\">data 4.8284</text>\n<polyline fill=\"none\" stroke=\"black\" points=\"2313.5,-109 2313.5,-144.5\"/>\n<text text-anchor=\"middle\" x=\"2354.12\" y=\"-121.7\" font-family=\"Times,serif\" font-size=\"14.00\">grad 0.1464</text>\n</g>\n<!-- 4412711312&#45;&gt;4393964080* -->\n<g id=\"edge22\" class=\"edge\">\n<title>4412711312&#45;&gt;4393964080*</title>\n<path fill=\"none\" stroke=\"black\" d=\"M2394.96,-119.69C2472.25,-113.81 2580.03,-105.61 2636.17,-101.34\"/>\n<polygon fill=\"black\" stroke=\"black\" points=\"2636.12,-104.85 2645.82,-100.61 2635.59,-97.87 2636.12,-104.85\"/>\n</g>\n<!-- 4412711312+&#45;&gt;4412711312 -->\n<g id=\"edge8\" class=\"edge\">\n<title>4412711312+&#45;&gt;4412711312</title>\n<path fill=\"none\" stroke=\"black\" d=\"M1957.25,-126.5C2007.51,-126.5 2119.07,-126.5 2202.03,-126.5\"/>\n<polygon fill=\"black\" stroke=\"black\" points=\"2202.02,-130 2212.02,-126.5 2202.02,-123 2202.02,-130\"/>\n</g>\n<!-- 4393645984 -->\n<g id=\"node25\" class=\"node\">\n<title>4393645984</title>\n<polygon fill=\"none\" stroke=\"black\" points=\"1683.75,-81.5 1683.75,-117.5 1864.5,-117.5 1864.5,-81.5 1683.75,-81.5\"/>\n<text text-anchor=\"middle\" x=\"1693.62\" y=\"-94.7\" font-family=\"Times,serif\" font-size=\"14.00\"> </text>\n<polyline fill=\"none\" stroke=\"black\" points=\"1703.5,-82 1703.5,-117.5\"/>\n<text text-anchor=\"middle\" x=\"1743.38\" y=\"-94.7\" font-family=\"Times,serif\" font-size=\"14.00\">data 5.8284</text>\n<polyline fill=\"none\" stroke=\"black\" points=\"1783.25,-82 1783.25,-117.5\"/>\n<text text-anchor=\"middle\" x=\"1823.88\" y=\"-94.7\" font-family=\"Times,serif\" font-size=\"14.00\">grad 0.0429</text>\n</g>\n<!-- 4393645984&#45;&gt;4390321808+ -->\n<g id=\"edge28\" class=\"edge\">\n<title>4393645984&#45;&gt;4390321808+</title>\n<path fill=\"none\" stroke=\"black\" d=\"M1864.93,-83.13C1874.48,-81.39 1883.76,-79.7 1892.14,-78.17\"/>\n<polygon fill=\"black\" stroke=\"black\" points=\"1892.64,-81.64 1901.85,-76.4 1891.39,-74.75 1892.64,-81.64\"/>\n</g>\n<!-- 4393645984&#45;&gt;4412711312+ -->\n<g id=\"edge15\" class=\"edge\">\n<title>4393645984&#45;&gt;4412711312+</title>\n<path fill=\"none\" stroke=\"black\" d=\"M1864.93,-115.28C1874.48,-116.96 1883.76,-118.59 1892.14,-120.07\"/>\n<polygon fill=\"black\" stroke=\"black\" points=\"1891.39,-123.49 1901.85,-121.77 1892.61,-116.59 1891.39,-123.49\"/>\n</g>\n<!-- 4393645984exp -->\n<g id=\"node26\" class=\"node\">\n<title>4393645984exp</title>\n<ellipse fill=\"none\" stroke=\"black\" cx=\"1618.5\" cy=\"-99.5\" rx=\"27\" ry=\"18\"/>\n<text text-anchor=\"middle\" x=\"1618.5\" y=\"-94.45\" font-family=\"Times,serif\" font-size=\"14.00\">exp</text>\n</g>\n<!-- 4393645984exp&#45;&gt;4393645984 -->\n<g id=\"edge9\" class=\"edge\">\n<title>4393645984exp&#45;&gt;4393645984</title>\n<path fill=\"none\" stroke=\"black\" d=\"M1645.91,-99.5C1653.62,-99.5 1662.54,-99.5 1672.01,-99.5\"/>\n<polygon fill=\"black\" stroke=\"black\" points=\"1671.82,-103 1681.82,-99.5 1671.82,-96 1671.82,-103\"/>\n</g>\n<!-- 4393641424 -->\n<g id=\"node27\" class=\"node\">\n<title>4393641424</title>\n<polygon fill=\"none\" stroke=\"black\" points=\"1374.75,-81.5 1374.75,-117.5 1555.5,-117.5 1555.5,-81.5 1374.75,-81.5\"/>\n<text text-anchor=\"middle\" x=\"1384.62\" y=\"-94.7\" font-family=\"Times,serif\" font-size=\"14.00\"> </text>\n<polyline fill=\"none\" stroke=\"black\" points=\"1394.5,-82 1394.5,-117.5\"/>\n<text text-anchor=\"middle\" x=\"1434.38\" y=\"-94.7\" font-family=\"Times,serif\" font-size=\"14.00\">data 1.7627</text>\n<polyline fill=\"none\" stroke=\"black\" points=\"1474.25,-82 1474.25,-117.5\"/>\n<text text-anchor=\"middle\" x=\"1514.88\" y=\"-94.7\" font-family=\"Times,serif\" font-size=\"14.00\">grad 0.2500</text>\n</g>\n<!-- 4393641424&#45;&gt;4393645984exp -->\n<g id=\"edge13\" class=\"edge\">\n<title>4393641424&#45;&gt;4393645984exp</title>\n<path fill=\"none\" stroke=\"black\" d=\"M1555.93,-99.5C1564.27,-99.5 1572.37,-99.5 1579.81,-99.5\"/>\n<polygon fill=\"black\" stroke=\"black\" points=\"1579.75,-103 1589.75,-99.5 1579.75,-96 1579.75,-103\"/>\n</g>\n<!-- 4393641424*&#45;&gt;4393641424 -->\n<g id=\"edge10\" class=\"edge\">\n<title>4393641424*&#45;&gt;4393641424</title>\n<path fill=\"none\" stroke=\"black\" d=\"M1339.12,-99.5C1346.26,-99.5 1354.45,-99.5 1363.14,-99.5\"/>\n<polygon fill=\"black\" stroke=\"black\" points=\"1362.86,-103 1372.86,-99.5 1362.86,-96 1362.86,-103\"/>\n</g>\n</g>\n</svg>\n",
      "text/plain": [
       "<graphviz.graphs.Digraph at 0x105e690d0>"
      ]
     },
     "execution_count": 55,
     "metadata": {},
     "output_type": "execute_result"
    }
   ],
   "execution_count": 55
  },
  {
   "metadata": {
    "ExecuteTime": {
     "end_time": "2025-05-22T00:35:43.545336Z",
     "start_time": "2025-05-22T00:35:40.587509Z"
    }
   },
   "cell_type": "code",
   "source": "import torch",
   "id": "43d2708369ead98c",
   "outputs": [],
   "execution_count": 57
  },
  {
   "metadata": {
    "ExecuteTime": {
     "end_time": "2025-05-22T00:40:46.048190Z",
     "start_time": "2025-05-22T00:40:46.043595Z"
    }
   },
   "cell_type": "code",
   "source": [
    "x1 = torch.Tensor([2.0]).double()                   ; x1.requires_grad = True\n",
    "x2 = torch.Tensor([0.0]).double()                   ; x2.requires_grad = True\n",
    "w1 = torch.Tensor([-3.0]).double()                  ; w1.requires_grad = True\n",
    "w2 = torch.Tensor([1.0]).double()                   ; w2.requires_grad = True\n",
    "b = torch.Tensor([6.8813735870195432]).double()     ; b.requires_grad = True\n",
    "n = x1*w1 + x2*w2 + b\n",
    "o = torch.tanh(n)\n",
    "\n",
    "print(o.data.item())\n",
    "o.backward()\n",
    "\n",
    "print('-----')\n",
    "print(x2.grad.item())\n",
    "print(w2.grad.item())\n",
    "print(x1.grad.item())\n",
    "print(w1.grad.item())\n"
   ],
   "id": "52412bd23e3a551e",
   "outputs": [
    {
     "name": "stdout",
     "output_type": "stream",
     "text": [
      "0.7071066904050358\n",
      "-----\n",
      "0.5000001283844369\n",
      "0.0\n",
      "-1.5000003851533106\n",
      "1.0000002567688737\n"
     ]
    }
   ],
   "execution_count": 62
  },
  {
   "metadata": {
    "ExecuteTime": {
     "end_time": "2025-05-22T06:05:53.229552Z",
     "start_time": "2025-05-22T06:05:53.217184Z"
    }
   },
   "cell_type": "code",
   "source": [
    "import random\n",
    "\n",
    "class Neuron:\n",
    "\n",
    "    def __init__(self, nin):\n",
    "        self.w = [Value(random.uniform(-1, 1)) for _ in range(nin)]\n",
    "        self.b = Value(random.uniform(-1, 1))\n",
    "\n",
    "    def __call__(self, x):\n",
    "        # w * x + b\n",
    "        act = sum((wi * xi for wi, xi in zip(self.w, x)), self.b)\n",
    "        out = act.tanh()\n",
    "        return out\n",
    "\n",
    "    def parameters(self):\n",
    "        return self.w + [self.b]\n",
    "\n",
    "class Layer:\n",
    "\n",
    "    def __init__(self, nin, nout):\n",
    "        self.neurons = [Neuron(nin) for _ in range(nout)]\n",
    "\n",
    "    def __call__(self, x):\n",
    "        outs = [n(x) for n in self.neurons]\n",
    "        return outs[0] if len(outs) == 1 else outs\n",
    "\n",
    "    def parameters(self):\n",
    "        return [p for neuron in self.neurons for p in neuron.parameters()]\n",
    "\n",
    "# Multi-Layer Perceptron: An input later, one or more hidden layers, and an output layer\n",
    "class MLP:\n",
    "\n",
    "    def __init__(self, nin, nouts):\n",
    "        sz = [nin] + nouts\n",
    "        self.layers = [Layer(sz[i], sz[i + 1]) for i in range(len(nouts))]\n",
    "\n",
    "    def __call__(self, x):\n",
    "        for layer in self.layers:\n",
    "            x = layer(x)\n",
    "        return x\n",
    "\n",
    "    def parameters(self):\n",
    "        return [p for layer in self.layers for p in layer.parameters()]\n",
    "\n",
    "x = [2.0, 3.0, -1.0]\n",
    "n = MLP(3, [4, 4, 1])\n",
    "n(x)"
   ],
   "id": "7b8651d8f5f1b6c1",
   "outputs": [
    {
     "data": {
      "text/plain": [
       "Value(data=-0.14144726980264713)"
      ]
     },
     "execution_count": 199,
     "metadata": {},
     "output_type": "execute_result"
    }
   ],
   "execution_count": 199
  },
  {
   "metadata": {
    "ExecuteTime": {
     "end_time": "2025-05-22T06:05:53.721522Z",
     "start_time": "2025-05-22T06:05:53.718543Z"
    }
   },
   "cell_type": "code",
   "source": "n.parameters()",
   "id": "ce9b9e1cb9b41b50",
   "outputs": [
    {
     "data": {
      "text/plain": [
       "[Value(data=0.7664441649004634),\n",
       " Value(data=0.15741714712565336),\n",
       " Value(data=-0.5418577166772942),\n",
       " Value(data=0.04485600615041596),\n",
       " Value(data=-0.6055115820678443),\n",
       " Value(data=0.20621277547686456),\n",
       " Value(data=-0.2063152987084227),\n",
       " Value(data=0.3468213406179237),\n",
       " Value(data=-0.7606808739207709),\n",
       " Value(data=-0.8139114606446984),\n",
       " Value(data=0.9946157479131081),\n",
       " Value(data=-0.7779743490242714),\n",
       " Value(data=0.5396674221926727),\n",
       " Value(data=0.5087544056457389),\n",
       " Value(data=-0.0023137245994444555),\n",
       " Value(data=0.9494247152767945),\n",
       " Value(data=-0.8996609479756577),\n",
       " Value(data=0.13597532905684484),\n",
       " Value(data=-0.5879049105489473),\n",
       " Value(data=0.06835278744358808),\n",
       " Value(data=0.9282875240953818),\n",
       " Value(data=0.8720250089836541),\n",
       " Value(data=0.7671039497064911),\n",
       " Value(data=0.19384747489869114),\n",
       " Value(data=-0.502676147741878),\n",
       " Value(data=-0.34284468737153095),\n",
       " Value(data=-0.5811404414871619),\n",
       " Value(data=-0.36855466349864074),\n",
       " Value(data=0.5884003518049068),\n",
       " Value(data=0.49543450589362625),\n",
       " Value(data=-0.558269123071705),\n",
       " Value(data=-0.9835984393377917),\n",
       " Value(data=0.6171020011144375),\n",
       " Value(data=0.8124552807446872),\n",
       " Value(data=0.2719031477667275),\n",
       " Value(data=-0.44543421589371013),\n",
       " Value(data=0.19214157397707576),\n",
       " Value(data=0.5402926207574195),\n",
       " Value(data=0.2225729321184482),\n",
       " Value(data=-0.8094443491923595),\n",
       " Value(data=-0.7402870028383586)]"
      ]
     },
     "execution_count": 200,
     "metadata": {},
     "output_type": "execute_result"
    }
   ],
   "execution_count": 200
  },
  {
   "metadata": {
    "ExecuteTime": {
     "end_time": "2025-05-22T06:05:54.137243Z",
     "start_time": "2025-05-22T06:05:54.134108Z"
    }
   },
   "cell_type": "code",
   "source": [
    "xs = [\n",
    "    [2.0, 3.0, -1.0],\n",
    "    [3.0, -1.0, 0.5],\n",
    "    [0.5, 1.0, 1.0],\n",
    "    [1.0, 1.0, -1.0]\n",
    "]\n",
    "ys = [1.0, -1.0, -1.0, 1.0] # desired targets\n",
    "ypred = [n(x) for x in xs]\n",
    "ypred"
   ],
   "id": "fa593fae533e1eab",
   "outputs": [
    {
     "data": {
      "text/plain": [
       "[Value(data=-0.14144726980264713),\n",
       " Value(data=-0.3671617231928157),\n",
       " Value(data=-0.4814807025034095),\n",
       " Value(data=-0.09781745874697587)]"
      ]
     },
     "execution_count": 201,
     "metadata": {},
     "output_type": "execute_result"
    }
   ],
   "execution_count": 201
  },
  {
   "metadata": {
    "ExecuteTime": {
     "end_time": "2025-05-22T06:08:42.297799Z",
     "start_time": "2025-05-22T06:08:42.153356Z"
    }
   },
   "cell_type": "code",
   "source": [
    "for k in range(100):\n",
    "    # forward pass\n",
    "    ypred = [n(x) for x in xs]\n",
    "    loss = sum((yout - ygt)**2 for ygt, yout in zip(ys, ypred))\n",
    "\n",
    "    # reset/flush grad\n",
    "    for p in n.parameters():\n",
    "        p.grad = 0.0\n",
    "\n",
    "    # backward pass\n",
    "    loss.backward()\n",
    "\n",
    "    #update\n",
    "    for p in n.parameters():\n",
    "        p.data += -0.1 * p.grad\n",
    "\n",
    "    print(k, loss.data)"
   ],
   "id": "3eac7664674ec678",
   "outputs": [
    {
     "name": "stdout",
     "output_type": "stream",
     "text": [
      "0 0.000259746947626716\n",
      "1 0.00025961110385471723\n",
      "2 0.000259475398115409\n",
      "3 0.00025933983020084495\n",
      "4 0.0002592043999034867\n",
      "5 0.0002590691070162189\n",
      "6 0.00025893395133232095\n",
      "7 0.0002587989326455119\n",
      "8 0.000258664050749891\n",
      "9 0.0002585293054399974\n",
      "10 0.0002583946965107567\n",
      "11 0.00025826022375751226\n",
      "12 0.0002581258869760074\n",
      "13 0.0002579916859624047\n",
      "14 0.0002578576205132638\n",
      "15 0.00025772369042553745\n",
      "16 0.0002575898954966015\n",
      "17 0.00025745623552421356\n",
      "18 0.00025732271030655634\n",
      "19 0.0002571893196421832\n",
      "20 0.0002570560633300723\n",
      "21 0.0002569229411695842\n",
      "22 0.00025678995296048184\n",
      "23 0.00025665709850292135\n",
      "24 0.0002565243775974593\n",
      "25 0.00025639179004504633\n",
      "26 0.00025625933564700954\n",
      "27 0.0002561270142050965\n",
      "28 0.00025599482552141496\n",
      "29 0.0002558627693984957\n",
      "30 0.0002557308456392299\n",
      "31 0.00025559905404690716\n",
      "32 0.00025546739442521894\n",
      "33 0.00025533586657821135\n",
      "34 0.0002552044703103527\n",
      "35 0.0002550732054264585\n",
      "36 0.0002549420717317636\n",
      "37 0.0002548110690318608\n",
      "38 0.00025468019713273664\n",
      "39 0.00025454945584074657\n",
      "40 0.00025441884496263633\n",
      "41 0.00025428836430553537\n",
      "42 0.0002541580136769281\n",
      "43 0.00025402779288470276\n",
      "44 0.0002538977017371036\n",
      "45 0.0002537677400427672\n",
      "46 0.0002536379076106929\n",
      "47 0.00025350820425025327\n",
      "48 0.0002533786297711952\n",
      "49 0.0002532491839836416\n",
      "50 0.0002531198666980743\n",
      "51 0.0002529906777253659\n",
      "52 0.00025286161687673394\n",
      "53 0.00025273268396377974\n",
      "54 0.00025260387879846326\n",
      "55 0.0002524752011931209\n",
      "56 0.00025234665096043895\n",
      "57 0.00025221822791347934\n",
      "58 0.00025208993186566996\n",
      "59 0.00025196176263078685\n",
      "60 0.00025183372002298045\n",
      "61 0.0002517058038567677\n",
      "62 0.00025157801394700514\n",
      "63 0.00025145035010891816\n",
      "64 0.0002513228121581013\n",
      "65 0.00025119539991049075\n",
      "66 0.000251068113182389\n",
      "67 0.00025094095179044914\n",
      "68 0.0002508139155516819\n",
      "69 0.0002506870042834488\n",
      "70 0.00025056021780346595\n",
      "71 0.0002504335559298062\n",
      "72 0.0002503070184808841\n",
      "73 0.0002501806052754769\n",
      "74 0.00025005431613269775\n",
      "75 0.00024992815087202696\n",
      "76 0.00024980210931326924\n",
      "77 0.0002496761912765952\n",
      "78 0.0002495503965825149\n",
      "79 0.00024942472505188896\n",
      "80 0.00024929917650591055\n",
      "81 0.00024917375076613773\n",
      "82 0.00024904844765444257\n",
      "83 0.000248923266993067\n",
      "84 0.00024879820860457583\n",
      "85 0.00024867327231188515\n",
      "86 0.000248548457938248\n",
      "87 0.00024842376530725816\n",
      "88 0.00024829919424283677\n",
      "89 0.0002481747445692595\n",
      "90 0.0002480504161111223\n",
      "91 0.00024792620869336796\n",
      "92 0.0002478021221412706\n",
      "93 0.0002476781562804367\n",
      "94 0.0002475543109368049\n",
      "95 0.0002474305859366576\n",
      "96 0.000247306981106597\n",
      "97 0.0002471834962735577\n",
      "98 0.0002470601312648045\n",
      "99 0.00024693688590794423\n"
     ]
    }
   ],
   "execution_count": 252
  },
  {
   "metadata": {
    "ExecuteTime": {
     "end_time": "2025-05-22T06:08:45.352826Z",
     "start_time": "2025-05-22T06:08:45.350017Z"
    }
   },
   "cell_type": "code",
   "source": "ypred",
   "id": "976f1c813af29a4e",
   "outputs": [
    {
     "data": {
      "text/plain": [
       "[Value(data=0.9932297165853576),\n",
       " Value(data=-0.9896077459240216),\n",
       " Value(data=-0.9949946641513593),\n",
       " Value(data=0.9917508899476377)]"
      ]
     },
     "execution_count": 253,
     "metadata": {},
     "output_type": "execute_result"
    }
   ],
   "execution_count": 253
  }
 ],
 "metadata": {
  "kernelspec": {
   "display_name": "Python 3",
   "language": "python",
   "name": "python3"
  },
  "language_info": {
   "codemirror_mode": {
    "name": "ipython",
    "version": 2
   },
   "file_extension": ".py",
   "mimetype": "text/x-python",
   "name": "python",
   "nbconvert_exporter": "python",
   "pygments_lexer": "ipython2",
   "version": "2.7.6"
  }
 },
 "nbformat": 4,
 "nbformat_minor": 5
}
